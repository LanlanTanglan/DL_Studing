{
 "cells": [
  {
   "metadata": {
    "ExecuteTime": {
     "end_time": "2024-06-13T03:24:25.581070Z",
     "start_time": "2024-06-13T03:24:25.548001Z"
    }
   },
   "cell_type": "code",
   "source": [
    "import numpy as np\n",
    "import torch\n",
    "import torch.nn as nn\n",
    "import torch.nn.functional as F\n",
    "from torchvision import transforms\n",
    "\n",
    "from torch.utils.data import Dataset, DataLoader\n",
    "from DL_Studing.datasets.path_dataset import PathDataset\n",
    "import os\n",
    "\n",
    "from PIL import Image\n",
    "from torch.utils.data import Dataset\n",
    "import torch.nn.functional as F\n",
    "import torch\n",
    "import h5py"
   ],
   "id": "f9eb1a391515b660",
   "outputs": [],
   "execution_count": 4
  },
  {
   "metadata": {
    "ExecuteTime": {
     "end_time": "2024-06-13T01:43:03.554384Z",
     "start_time": "2024-06-13T01:43:03.551384Z"
    }
   },
   "cell_type": "code",
   "source": [
    "for idx in range(0, 8, 2):\n",
    "    print(idx)"
   ],
   "id": "b545bd42fdf84644",
   "outputs": [
    {
     "name": "stdout",
     "output_type": "stream",
     "text": [
      "0\n",
      "2\n",
      "4\n",
      "6\n"
     ]
    }
   ],
   "execution_count": 2
  },
  {
   "metadata": {
    "ExecuteTime": {
     "end_time": "2024-06-13T03:27:41.050249Z",
     "start_time": "2024-06-13T03:27:41.046393Z"
    }
   },
   "cell_type": "code",
   "source": [
    "with h5py.File('data/seg_butterfly/AttentionUnet.h5', 'r') as hdf5_file:\n",
    "    print(hdf5_file[\"model_weights\"].keys())"
   ],
   "id": "8272189020d71a7c",
   "outputs": [
    {
     "name": "stdout",
     "output_type": "stream",
     "text": [
      "<KeysViewHDF5 ['Attention1', 'Attention2', 'Attention3', 'Attention4', 'DecoderBlock1', 'DecoderBlock2', 'DecoderBlock3', 'DecoderBlock4', 'EncoderBlock1', 'EncoderBlock2', 'EncoderBlock3', 'EncoderBlock4', 'Encoding', 'InputImage', 'MaskOut']>\n"
     ]
    }
   ],
   "execution_count": 19
  },
  {
   "metadata": {},
   "cell_type": "code",
   "outputs": [],
   "execution_count": null,
   "source": "",
   "id": "4d18945c2b2648ce"
  },
  {
   "metadata": {
    "ExecuteTime": {
     "end_time": "2024-06-13T07:44:30.861918Z",
     "start_time": "2024-06-13T07:44:29.676190Z"
    }
   },
   "cell_type": "code",
   "source": [
    "import os\n",
    "from PIL import Image\n",
    "folder_path = 'D:\\\\DeepLearning\\\\PersonalStudy\\\\DL_Studing\\\\data\\\\car_segmentation\\\\val_images\\\\'\n",
    "extensions = []\n",
    "index=0\n",
    "\n",
    "for fldr in os.listdir(folder_path):\n",
    "    file_path = os.path.join(folder_path, fldr)\n",
    "    print('** Path: {}  **'.format(file_path), end=\"\\r\", flush=True)\n",
    "    print(file_path)\n",
    "    im = Image.open(file_path)\n",
    "    rgb_im = im.convert('RGB')"
   ],
   "id": "b9c4bfffb60ded0d",
   "outputs": [
    {
     "name": "stdout",
     "output_type": "stream",
     "text": [
      "D:\\DeepLearning\\PersonalStudy\\DL_Studing\\data\\car_segmentation\\val_images\\IMG_20201123_143945.png43945.png  **\n",
      "D:\\DeepLearning\\PersonalStudy\\DL_Studing\\data\\car_segmentation\\val_images\\IMG_20201123_143954.png43954.png  **\n",
      "D:\\DeepLearning\\PersonalStudy\\DL_Studing\\data\\car_segmentation\\val_images\\IMG_20201123_144018__01.png8__01.png  **\n",
      "D:\\DeepLearning\\PersonalStudy\\DL_Studing\\data\\car_segmentation\\val_images\\IMG_20201123_144114.png44114.png  **\n",
      "D:\\DeepLearning\\PersonalStudy\\DL_Studing\\data\\car_segmentation\\val_images\\IMG_20201123_144130.png44130.png  **\n",
      "D:\\DeepLearning\\PersonalStudy\\DL_Studing\\data\\car_segmentation\\val_images\\IMG_20201123_144418.png44418.png  **\n",
      "D:\\DeepLearning\\PersonalStudy\\DL_Studing\\data\\car_segmentation\\val_images\\IMG_20201123_144532.png44532.png  **\n",
      "D:\\DeepLearning\\PersonalStudy\\DL_Studing\\data\\car_segmentation\\val_images\\IMG_20201123_144550.png44550.png  **\n",
      "D:\\DeepLearning\\PersonalStudy\\DL_Studing\\data\\car_segmentation\\val_images\\IMG_20201123_144606.png44606.png  **\n",
      "D:\\DeepLearning\\PersonalStudy\\DL_Studing\\data\\car_segmentation\\val_images\\IMG_20201123_144621.png44621.png  **\n",
      "D:\\DeepLearning\\PersonalStudy\\DL_Studing\\data\\car_segmentation\\val_images\\IMG_20201123_144636.png44636.png  **\n",
      "D:\\DeepLearning\\PersonalStudy\\DL_Studing\\data\\car_segmentation\\val_images\\IMG_20201123_144700.png44700.png  **\n",
      "D:\\DeepLearning\\PersonalStudy\\DL_Studing\\data\\car_segmentation\\val_images\\IMG_20201123_144709.png44709.png  **\n",
      "D:\\DeepLearning\\PersonalStudy\\DL_Studing\\data\\car_segmentation\\val_images\\IMG_20201123_144726.png44726.png  **\n",
      "D:\\DeepLearning\\PersonalStudy\\DL_Studing\\data\\car_segmentation\\val_images\\IMG_20201123_144740.png44740.png  **\n",
      "D:\\DeepLearning\\PersonalStudy\\DL_Studing\\data\\car_segmentation\\val_images\\IMG_20201123_144750.png44750.png  **\n",
      "D:\\DeepLearning\\PersonalStudy\\DL_Studing\\data\\car_segmentation\\val_images\\IMG_20201123_144800.png44800.png  **\n",
      "D:\\DeepLearning\\PersonalStudy\\DL_Studing\\data\\car_segmentation\\val_images\\Jeep-Wrangler-Left-Side-View-79407.png79407.png  **\n",
      "D:\\DeepLearning\\PersonalStudy\\DL_Studing\\data\\car_segmentation\\val_images\\kevin-bhagat-3cLpiv8h5so-unsplash.pngplash.png  **\n",
      "D:\\DeepLearning\\PersonalStudy\\DL_Studing\\data\\car_segmentation\\val_images\\malusi-msomi-1Jz3Xq7EcrI-unsplash.pngplash.png  **\n",
      "D:\\DeepLearning\\PersonalStudy\\DL_Studing\\data\\car_segmentation\\val_images\\Maruti-Suzuki-Ertiga-Right-Side-111110.png11110.png  **\n",
      "D:\\DeepLearning\\PersonalStudy\\DL_Studing\\data\\car_segmentation\\val_images\\maxresdefault.pngfault.png  **\n",
      "D:\\DeepLearning\\PersonalStudy\\DL_Studing\\data\\car_segmentation\\val_images\\Monster_energy_custom.pngustom.png  **\n",
      "D:\\DeepLearning\\PersonalStudy\\DL_Studing\\data\\car_segmentation\\val_images\\m_next_037.pngt_037.png  **\n",
      "D:\\DeepLearning\\PersonalStudy\\DL_Studing\\data\\car_segmentation\\val_images\\Police-Car-side-view.png-view.png  **\n",
      "D:\\DeepLearning\\PersonalStudy\\DL_Studing\\data\\car_segmentation\\val_images\\Safety_Car_side_2015_Malaysia.pngaysia.png  **\n",
      "D:\\DeepLearning\\PersonalStudy\\DL_Studing\\data\\car_segmentation\\val_images\\side-view-(left)-90.pngt)-90.png  **\n",
      "D:\\DeepLearning\\PersonalStudy\\DL_Studing\\data\\car_segmentation\\val_images\\toyota-gt86-blue-sport-car-side-view-wallpaper-preview.pngeview.png  **\n",
      "D:\\DeepLearning\\PersonalStudy\\DL_Studing\\data\\car_segmentation\\val_images\\unnamed.pngnamed.png  **\n",
      "D:\\DeepLearning\\PersonalStudy\\DL_Studing\\data\\car_segmentation\\val_images\\Volkswagen-Golf_GTI_5-door-2004-1600-10.png00-10.png  **\n",
      "D:\\DeepLearning\\PersonalStudy\\DL_Studing\\data\\car_segmentation\\val_images\\yuvraj-singh-keRubFoQix8-unsplash.pngplash.png  **\n"
     ]
    }
   ],
   "execution_count": 7
  },
  {
   "metadata": {},
   "cell_type": "code",
   "outputs": [],
   "execution_count": null,
   "source": "",
   "id": "c0cabab1ed856cdb"
  }
 ],
 "metadata": {
  "kernelspec": {
   "display_name": "Python 3 (ipykernel)",
   "language": "python",
   "name": "python3"
  },
  "language_info": {
   "codemirror_mode": {
    "name": "ipython",
    "version": 3
   },
   "file_extension": ".py",
   "mimetype": "text/x-python",
   "name": "python",
   "nbconvert_exporter": "python",
   "pygments_lexer": "ipython3",
   "version": "3.11.9"
  }
 },
 "nbformat": 4,
 "nbformat_minor": 5
}
