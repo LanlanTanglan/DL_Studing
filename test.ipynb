{
 "cells": [
  {
   "metadata": {
    "ExecuteTime": {
     "end_time": "2024-05-03T01:32:08.441881Z",
     "start_time": "2024-05-03T01:32:08.438942Z"
    }
   },
   "cell_type": "code",
   "source": [
    "import torch.nn as nn\n",
    "import torch"
   ],
   "id": "3688c5a7d22c2a6",
   "outputs": [],
   "execution_count": 20
  },
  {
   "metadata": {
    "ExecuteTime": {
     "end_time": "2024-05-03T01:32:08.615704Z",
     "start_time": "2024-05-03T01:32:08.611670Z"
    }
   },
   "cell_type": "code",
   "source": "x = torch.tensor([[3, 1],[2, 2]],dtype=torch.float)",
   "id": "32354af529ceecdc",
   "outputs": [],
   "execution_count": 21
  },
  {
   "metadata": {
    "ExecuteTime": {
     "end_time": "2024-05-03T01:56:07.144468Z",
     "start_time": "2024-05-03T01:56:07.140566Z"
    }
   },
   "cell_type": "code",
   "source": "x",
   "id": "9d64934c347b3947",
   "outputs": [
    {
     "data": {
      "text/plain": [
       "tensor([[3., 1.],\n",
       "        [2., 2.]])"
      ]
     },
     "execution_count": 28,
     "metadata": {},
     "output_type": "execute_result"
    }
   ],
   "execution_count": 28
  },
  {
   "metadata": {
    "ExecuteTime": {
     "end_time": "2024-05-03T01:56:50.645916Z",
     "start_time": "2024-05-03T01:56:50.638101Z"
    }
   },
   "cell_type": "code",
   "source": "nn.LayerNorm(x.dim())(x)",
   "id": "79d6c5a7a163c7c3",
   "outputs": [
    {
     "data": {
      "text/plain": [
       "tensor([[ 1.0000, -1.0000],\n",
       "        [ 0.0000,  0.0000]], grad_fn=<NativeLayerNormBackward0>)"
      ]
     },
     "execution_count": 30,
     "metadata": {},
     "output_type": "execute_result"
    }
   ],
   "execution_count": 30
  },
  {
   "metadata": {
    "ExecuteTime": {
     "end_time": "2024-05-03T01:57:03.147354Z",
     "start_time": "2024-05-03T01:57:03.143453Z"
    }
   },
   "cell_type": "code",
   "source": "x.dim()",
   "id": "1af83ef99d57daad",
   "outputs": [
    {
     "data": {
      "text/plain": [
       "2"
      ]
     },
     "execution_count": 32,
     "metadata": {},
     "output_type": "execute_result"
    }
   ],
   "execution_count": 32
  },
  {
   "metadata": {
    "ExecuteTime": {
     "end_time": "2024-05-03T01:57:35.303720Z",
     "start_time": "2024-05-03T01:57:35.300280Z"
    }
   },
   "cell_type": "code",
   "source": "y = torch.randn((2,2,2,2,2,111))",
   "id": "8d6b94c6cba88b79",
   "outputs": [],
   "execution_count": 33
  },
  {
   "metadata": {
    "ExecuteTime": {
     "end_time": "2024-05-03T01:57:39.758503Z",
     "start_time": "2024-05-03T01:57:39.754101Z"
    }
   },
   "cell_type": "code",
   "source": "y.dim()",
   "id": "9a153b059f53cbaa",
   "outputs": [
    {
     "data": {
      "text/plain": [
       "6"
      ]
     },
     "execution_count": 34,
     "metadata": {},
     "output_type": "execute_result"
    }
   ],
   "execution_count": 34
  },
  {
   "metadata": {
    "ExecuteTime": {
     "end_time": "2024-05-03T01:58:25.139558Z",
     "start_time": "2024-05-03T01:58:25.133307Z"
    }
   },
   "cell_type": "code",
   "source": "y",
   "id": "6d11e671f9a736e2",
   "outputs": [
    {
     "data": {
      "text/plain": [
       "tensor([[[[[[ 0.,  0.,  0.,  ...,  0.,  0., -1.],\n",
       "            [ 0., -2., -1.,  ..., -1.,  0.,  0.]],\n",
       "\n",
       "           [[ 0., -1.,  1.,  ..., -1., -1., -1.],\n",
       "            [ 0.,  0.,  0.,  ...,  1., -1.,  1.]]],\n",
       "\n",
       "\n",
       "          [[[ 0.,  0., -1.,  ...,  1., -1., -2.],\n",
       "            [-1., -1., -1.,  ...,  1., -1.,  0.]],\n",
       "\n",
       "           [[-2., -2., -1.,  ..., -1.,  0., -1.],\n",
       "            [ 2., -1.,  0.,  ...,  1.,  1.,  0.]]]],\n",
       "\n",
       "\n",
       "\n",
       "         [[[[-1., -1.,  1.,  ..., -1., -3., -1.],\n",
       "            [ 1., -2., -1.,  ..., -1.,  0., -2.]],\n",
       "\n",
       "           [[ 2., -1.,  0.,  ...,  0.,  0.,  2.],\n",
       "            [ 0., -1., -1.,  ...,  0., -2.,  0.]]],\n",
       "\n",
       "\n",
       "          [[[ 1., -3., -1.,  ..., -2., -1.,  0.],\n",
       "            [ 1., -1., -1.,  ..., -1.,  0., -1.]],\n",
       "\n",
       "           [[-1., -1., -1.,  ...,  0., -2., -1.],\n",
       "            [-2.,  1.,  0.,  ..., -1.,  0., -1.]]]]],\n",
       "\n",
       "\n",
       "\n",
       "\n",
       "        [[[[[-5.,  0.,  2.,  ..., -1., -2.,  0.],\n",
       "            [ 2.,  1., -2.,  ...,  0., -1., -2.]],\n",
       "\n",
       "           [[-1., -1.,  1.,  ..., -3.,  0.,  1.],\n",
       "            [ 0.,  0., -2.,  ..., -1.,  2., -2.]]],\n",
       "\n",
       "\n",
       "          [[[-1.,  0., -1.,  ...,  0., -1.,  1.],\n",
       "            [ 0., -1.,  1.,  ..., -1., -1., -3.]],\n",
       "\n",
       "           [[-1.,  0., -1.,  ..., -1., -1.,  1.],\n",
       "            [ 1.,  0., -2.,  ...,  0.,  0.,  1.]]]],\n",
       "\n",
       "\n",
       "\n",
       "         [[[[-1., -1.,  1.,  ..., -1., -1.,  0.],\n",
       "            [ 0., -1., -1.,  ...,  1.,  0., -1.]],\n",
       "\n",
       "           [[ 0.,  0., -1.,  ..., -2., -1., -1.],\n",
       "            [-2.,  1.,  0.,  ...,  1.,  1., -2.]]],\n",
       "\n",
       "\n",
       "          [[[ 0., -3.,  0.,  ...,  0., -1., -2.],\n",
       "            [-1., -2.,  0.,  ..., -2., -1.,  0.]],\n",
       "\n",
       "           [[-2., -1., -1.,  ..., -1., -1.,  2.],\n",
       "            [ 0., -1., -2.,  ...,  1.,  0.,  0.]]]]]])"
      ]
     },
     "execution_count": 37,
     "metadata": {},
     "output_type": "execute_result"
    }
   ],
   "execution_count": 37
  },
  {
   "metadata": {
    "ExecuteTime": {
     "end_time": "2024-05-03T01:58:39.033013Z",
     "start_time": "2024-05-03T01:58:39.026574Z"
    }
   },
   "cell_type": "code",
   "source": "nn.LayerNorm(111)(y)",
   "id": "466994f7269c043d",
   "outputs": [
    {
     "data": {
      "text/plain": [
       "tensor([[[[[[ 0.5208,  0.5208,  0.5208,  ...,  0.5208,  0.5208, -0.4590],\n",
       "            [ 0.4770, -1.7290, -0.6260,  ..., -0.6260,  0.4770,  0.4770]],\n",
       "\n",
       "           [[ 0.4990, -0.4560,  1.4541,  ..., -0.4560, -0.4560, -0.4560],\n",
       "            [ 0.4655,  0.4655,  0.4655,  ...,  1.4051, -0.4740,  1.4051]]],\n",
       "\n",
       "\n",
       "          [[[ 0.5614,  0.5614, -0.4122,  ...,  1.5350, -0.4122, -1.3859],\n",
       "            [-0.5297, -0.5297, -0.5297,  ...,  1.4303, -0.5297,  0.4503]],\n",
       "\n",
       "           [[-1.3893, -1.3893, -0.4714,  ..., -0.4714,  0.4466, -0.4714],\n",
       "            [ 2.1187, -0.7147,  0.2297,  ...,  1.1742,  1.1742,  0.2297]]]],\n",
       "\n",
       "\n",
       "\n",
       "         [[[[-0.4665, -0.4665,  1.6049,  ..., -0.4665, -2.5379, -0.4665],\n",
       "            [ 1.3250, -1.4326, -0.5134,  ..., -0.5134,  0.4058, -1.4326]],\n",
       "\n",
       "           [[ 2.6938, -0.3782,  0.6458,  ...,  0.6458,  0.6458,  2.6938],\n",
       "            [ 0.6790, -0.3678, -0.3678,  ...,  0.6790, -1.4146,  0.6790]]],\n",
       "\n",
       "\n",
       "          [[[ 1.4729, -2.5147, -0.5209,  ..., -1.5178, -0.5209,  0.4760],\n",
       "            [ 1.6119, -0.3224, -0.3224,  ..., -0.3224,  0.6448, -0.3224]],\n",
       "\n",
       "           [[-0.4090, -0.4090, -0.4090,  ...,  0.4640, -1.2820, -0.4090],\n",
       "            [-1.6449,  1.6548,  0.5549,  ..., -0.5450,  0.5549, -0.5450]]]]],\n",
       "\n",
       "\n",
       "\n",
       "\n",
       "        [[[[[-3.8197,  0.4287,  2.1280,  ..., -0.4210, -1.2707,  0.4287],\n",
       "            [ 2.4771,  1.5190, -1.3551,  ...,  0.5610, -0.3970, -1.3551]],\n",
       "\n",
       "           [[-0.7334, -0.7334,  1.2767,  ..., -2.7434,  0.2716,  1.2767],\n",
       "            [ 0.4844,  0.4844, -1.3383,  ..., -0.4269,  2.3071, -1.3383]]],\n",
       "\n",
       "\n",
       "          [[[-0.5566,  0.3655, -0.5566,  ...,  0.3655, -0.5566,  1.2876],\n",
       "            [ 0.2518, -0.6798,  1.1834,  ..., -0.6798, -0.6798, -2.5431]],\n",
       "\n",
       "           [[-0.3756,  0.5114, -0.3756,  ..., -0.3756, -0.3756,  1.3983],\n",
       "            [ 1.5458,  0.4529, -1.7328,  ...,  0.4529,  0.4529,  1.5458]]]],\n",
       "\n",
       "\n",
       "\n",
       "         [[[[-0.6279, -0.6279,  1.4527,  ..., -0.6279, -0.6279,  0.4124],\n",
       "            [ 0.5566, -0.3655, -0.3655,  ...,  1.4786,  0.5566, -0.3655]],\n",
       "\n",
       "           [[ 0.5527,  0.5527, -0.4368,  ..., -1.4263, -0.4368, -0.4368],\n",
       "            [-1.4366,  1.4280,  0.4731,  ...,  1.4280,  1.4280, -1.4366]]],\n",
       "\n",
       "\n",
       "          [[[ 0.5920, -2.1845,  0.5920,  ...,  0.5920, -0.3335, -1.2590],\n",
       "            [-0.3678, -1.4146,  0.6790,  ..., -1.4146, -0.3678,  0.6790]],\n",
       "\n",
       "           [[-1.4018, -0.4293, -0.4293,  ..., -0.4293, -0.4293,  2.4882],\n",
       "            [ 0.5058, -0.3997, -1.3053,  ...,  1.4113,  0.5058,  0.5058]]]]]],\n",
       "       grad_fn=<NativeLayerNormBackward0>)"
      ]
     },
     "execution_count": 38,
     "metadata": {},
     "output_type": "execute_result"
    }
   ],
   "execution_count": 38
  },
  {
   "metadata": {
    "ExecuteTime": {
     "end_time": "2024-05-03T01:59:48.205509Z",
     "start_time": "2024-05-03T01:59:48.201076Z"
    }
   },
   "cell_type": "code",
   "source": "nn.Identity()",
   "id": "dab02fbd2373cd0d",
   "outputs": [
    {
     "data": {
      "text/plain": [
       "Identity()"
      ]
     },
     "execution_count": 39,
     "metadata": {},
     "output_type": "execute_result"
    }
   ],
   "execution_count": 39
  },
  {
   "metadata": {
    "ExecuteTime": {
     "end_time": "2024-05-03T01:59:52.305655Z",
     "start_time": "2024-05-03T01:59:52.301648Z"
    }
   },
   "cell_type": "code",
   "source": "nn.Identity()(x)",
   "id": "4456db8a73d44b5d",
   "outputs": [
    {
     "data": {
      "text/plain": [
       "tensor([[3., 1.],\n",
       "        [2., 2.]])"
      ]
     },
     "execution_count": 40,
     "metadata": {},
     "output_type": "execute_result"
    }
   ],
   "execution_count": 40
  },
  {
   "metadata": {
    "ExecuteTime": {
     "end_time": "2024-05-03T02:40:17.876512Z",
     "start_time": "2024-05-03T02:40:17.871613Z"
    }
   },
   "cell_type": "code",
   "source": "x",
   "id": "986c5ae68345a0e0",
   "outputs": [
    {
     "data": {
      "text/plain": [
       "tensor([[3., 1.],\n",
       "        [2., 2.]])"
      ]
     },
     "execution_count": 41,
     "metadata": {},
     "output_type": "execute_result"
    }
   ],
   "execution_count": 41
  },
  {
   "metadata": {
    "ExecuteTime": {
     "end_time": "2024-05-03T02:40:20.773327Z",
     "start_time": "2024-05-03T02:40:20.769884Z"
    }
   },
   "cell_type": "code",
   "source": "x.shape",
   "id": "2d9db6f6628c22e6",
   "outputs": [
    {
     "data": {
      "text/plain": [
       "torch.Size([2, 2])"
      ]
     },
     "execution_count": 42,
     "metadata": {},
     "output_type": "execute_result"
    }
   ],
   "execution_count": 42
  },
  {
   "metadata": {
    "ExecuteTime": {
     "end_time": "2024-05-03T02:42:02.531917Z",
     "start_time": "2024-05-03T02:42:02.527494Z"
    }
   },
   "cell_type": "code",
   "source": "nn.Parameter(x).expand(x.shape[0],-1)",
   "id": "7c20f9bb9b4a74db",
   "outputs": [
    {
     "data": {
      "text/plain": [
       "tensor([[3., 1.],\n",
       "        [2., 2.]], grad_fn=<ExpandBackward0>)"
      ]
     },
     "execution_count": 46,
     "metadata": {},
     "output_type": "execute_result"
    }
   ],
   "execution_count": 46
  },
  {
   "metadata": {
    "ExecuteTime": {
     "end_time": "2024-05-03T02:42:28.945963Z",
     "start_time": "2024-05-03T02:42:28.941522Z"
    }
   },
   "cell_type": "code",
   "source": "cls_token = nn.Parameter(torch.zeros(1, 1, 178))",
   "id": "e686340e486e1195",
   "outputs": [],
   "execution_count": 48
  },
  {
   "metadata": {
    "ExecuteTime": {
     "end_time": "2024-05-03T02:42:32.853007Z",
     "start_time": "2024-05-03T02:42:32.849468Z"
    }
   },
   "cell_type": "code",
   "source": "cls_token.shape",
   "id": "6c410f4c1cbaad45",
   "outputs": [
    {
     "data": {
      "text/plain": [
       "torch.Size([1, 1, 178])"
      ]
     },
     "execution_count": 49,
     "metadata": {},
     "output_type": "execute_result"
    }
   ],
   "execution_count": 49
  },
  {
   "metadata": {
    "ExecuteTime": {
     "end_time": "2024-05-03T02:42:46.711919Z",
     "start_time": "2024-05-03T02:42:46.708836Z"
    }
   },
   "cell_type": "code",
   "source": "x = torch.randn((8,1,178))",
   "id": "1a105a1845c4cb12",
   "outputs": [],
   "execution_count": 50
  },
  {
   "metadata": {
    "ExecuteTime": {
     "end_time": "2024-05-03T02:43:13.156793Z",
     "start_time": "2024-05-03T02:43:13.153853Z"
    }
   },
   "cell_type": "code",
   "source": "cls_token = cls_token.expand(x.shape[0],-1,-1)",
   "id": "18d7d301c066b21e",
   "outputs": [],
   "execution_count": 53
  },
  {
   "metadata": {
    "ExecuteTime": {
     "end_time": "2024-05-03T02:43:14.007381Z",
     "start_time": "2024-05-03T02:43:14.003068Z"
    }
   },
   "cell_type": "code",
   "source": "cls_token.shape",
   "id": "35b87acca538520f",
   "outputs": [
    {
     "data": {
      "text/plain": [
       "torch.Size([8, 1, 178])"
      ]
     },
     "execution_count": 54,
     "metadata": {},
     "output_type": "execute_result"
    }
   ],
   "execution_count": 54
  },
  {
   "metadata": {},
   "cell_type": "code",
   "outputs": [],
   "execution_count": null,
   "source": "",
   "id": "8ac6adc72bed5e9b"
  }
 ],
 "metadata": {
  "kernelspec": {
   "display_name": "Python 3 (ipykernel)",
   "language": "python",
   "name": "python3"
  },
  "language_info": {
   "codemirror_mode": {
    "name": "ipython",
    "version": 3
   },
   "file_extension": ".py",
   "mimetype": "text/x-python",
   "name": "python",
   "nbconvert_exporter": "python",
   "pygments_lexer": "ipython3",
   "version": "3.11.9"
  }
 },
 "nbformat": 4,
 "nbformat_minor": 5
}
