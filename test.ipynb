{
 "cells": [
  {
   "metadata": {
    "ExecuteTime": {
     "end_time": "2024-05-11T09:17:50.712145Z",
     "start_time": "2024-05-11T09:17:48.653126Z"
    }
   },
   "cell_type": "code",
   "source": [
    "import numpy as np\n",
    "import torch\n",
    "import torch.nn as nn\n",
    "import torch.nn.functional as F\n",
    "from torchvision import transforms\n",
    "\n",
    "from torch.utils.data import Dataset, DataLoader\n",
    "from DL_Studing.datasets.path_dataset import PathDataset\n"
   ],
   "id": "f9eb1a391515b660",
   "outputs": [],
   "execution_count": 2
  },
  {
   "metadata": {
    "ExecuteTime": {
     "end_time": "2024-05-11T09:17:55.606290Z",
     "start_time": "2024-05-11T09:17:55.602788Z"
    }
   },
   "cell_type": "code",
   "source": "img = torch.randn(1, 7, 3, 3, 3)",
   "id": "828f28cdbb735a25",
   "outputs": [],
   "execution_count": 3
  },
  {
   "metadata": {
    "ExecuteTime": {
     "end_time": "2024-05-11T09:17:59.600918Z",
     "start_time": "2024-05-11T09:17:59.596036Z"
    }
   },
   "cell_type": "code",
   "source": "img.shape",
   "id": "c97aaa786092f3bf",
   "outputs": [
    {
     "data": {
      "text/plain": [
       "torch.Size([1, 7, 3, 3, 3])"
      ]
     },
     "execution_count": 4,
     "metadata": {},
     "output_type": "execute_result"
    }
   ],
   "execution_count": 4
  },
  {
   "metadata": {
    "ExecuteTime": {
     "end_time": "2024-05-11T09:27:12.378253Z",
     "start_time": "2024-05-11T09:27:12.374462Z"
    }
   },
   "cell_type": "code",
   "source": "[range(50 - 0 - 1)]",
   "id": "14933237d14c37e4",
   "outputs": [
    {
     "data": {
      "text/plain": [
       "[range(0, 49)]"
      ]
     },
     "execution_count": 14,
     "metadata": {},
     "output_type": "execute_result"
    }
   ],
   "execution_count": 14
  },
  {
   "metadata": {
    "ExecuteTime": {
     "end_time": "2024-05-11T09:49:21.142562Z",
     "start_time": "2024-05-11T09:49:21.137663Z"
    }
   },
   "cell_type": "code",
   "source": [
    "a = [1, 2, 3, 4, 5, 6, 7, 8, 9, 10, 11, 12, 13, 14, 15, 16, 17, 18, 19]\n",
    "a[-1:len(a)]"
   ],
   "id": "d58e6872f5874653",
   "outputs": [
    {
     "data": {
      "text/plain": [
       "[19]"
      ]
     },
     "execution_count": 26,
     "metadata": {},
     "output_type": "execute_result"
    }
   ],
   "execution_count": 26
  },
  {
   "metadata": {
    "ExecuteTime": {
     "end_time": "2024-05-11T10:11:38.972204Z",
     "start_time": "2024-05-11T10:11:38.969509Z"
    }
   },
   "cell_type": "code",
   "source": "a = torch.randn(16,1, 2)",
   "id": "81af5734c14e0925",
   "outputs": [],
   "execution_count": 27
  },
  {
   "metadata": {
    "ExecuteTime": {
     "end_time": "2024-05-11T10:13:22.081357Z",
     "start_time": "2024-05-11T10:13:22.077438Z"
    }
   },
   "cell_type": "code",
   "source": "a.squeeze(1).shape",
   "id": "b86084e23d3cd25a",
   "outputs": [
    {
     "data": {
      "text/plain": [
       "torch.Size([16, 2])"
      ]
     },
     "execution_count": 31,
     "metadata": {},
     "output_type": "execute_result"
    }
   ],
   "execution_count": 31
  },
  {
   "metadata": {
    "ExecuteTime": {
     "end_time": "2024-05-11T13:02:59.304081Z",
     "start_time": "2024-05-11T13:02:59.301102Z"
    }
   },
   "cell_type": "code",
   "source": [
    "a = [(0,1),(2,2),(3,3),(4,4),(5,5),(6,6),(7,7)]\n",
    "a[-1][1]"
   ],
   "id": "e5f6902b50bf9ca5",
   "outputs": [
    {
     "data": {
      "text/plain": [
       "7"
      ]
     },
     "execution_count": 3,
     "metadata": {},
     "output_type": "execute_result"
    }
   ],
   "execution_count": 3
  },
  {
   "metadata": {},
   "cell_type": "code",
   "outputs": [],
   "execution_count": null,
   "source": "",
   "id": "b6a9c4782cffe05"
  }
 ],
 "metadata": {
  "kernelspec": {
   "display_name": "Python 3 (ipykernel)",
   "language": "python",
   "name": "python3"
  },
  "language_info": {
   "codemirror_mode": {
    "name": "ipython",
    "version": 3
   },
   "file_extension": ".py",
   "mimetype": "text/x-python",
   "name": "python",
   "nbconvert_exporter": "python",
   "pygments_lexer": "ipython3",
   "version": "3.11.9"
  }
 },
 "nbformat": 4,
 "nbformat_minor": 5
}
